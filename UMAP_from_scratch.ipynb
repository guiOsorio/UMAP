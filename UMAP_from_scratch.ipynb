{
 "cells": [
  {
   "cell_type": "code",
   "execution_count": 148,
   "id": "48b1c6b8",
   "metadata": {},
   "outputs": [],
   "source": [
    "import numpy as np\n",
    "from sklearn.datasets import load_digits\n",
    "from sklearn.model_selection import train_test_split\n",
    "from sklearn.preprocessing import StandardScaler\n",
    "from scipy.interpolate import interp1d\n",
    "from scipy.optimize import curve_fit\n",
    "import matplotlib.pyplot as plt\n",
    "import seaborn as sns\n",
    "import pandas as pd\n",
    "%matplotlib inline"
   ]
  },
  {
   "cell_type": "code",
   "execution_count": 3,
   "id": "8fefa7c7",
   "metadata": {},
   "outputs": [],
   "source": [
    "class Perceptron:\n",
    "    def __init__(self, learning_rate=0.01, n_iters=10000):\n",
    "        self.lr = learning_rate\n",
    "        self.n_iters = n_iters\n",
    "        self.activation_func = self._unit_step_func\n",
    "        self.weights = None\n",
    "        self.bias = None\n",
    "    \n",
    "    def _unit_step_func(self, X):\n",
    "        return np.where(X>0, 1, 0)\n",
    "    \n",
    "    def fit(self, X, y):\n",
    "        n_samples, n_features = X.shape\n",
    "        \n",
    "        self.weights = np.zeros(n_features)\n",
    "        self.bias = 0\n",
    "        \n",
    "        labels = np.array([1 if i > 0 else 0 for i in y])\n",
    "        \n",
    "        for _ in range(self.n_iters):\n",
    "            \n",
    "            for idx, x_i in enumerate(X):\n",
    "                \n",
    "                # Input layer dot weights layer\n",
    "                linear_output = np.dot(x_i, self.weights) + self.bias\n",
    "                \n",
    "                # Result of operation above activated into a binary output (model prediction)\n",
    "                y_predicted = self._unit_step_func(linear_output)\n",
    "                \n",
    "                # Perceptron update rule\n",
    "                update = (labels[idx]-y_predicted) * self.lr\n",
    "                self.weights += update * x_i\n",
    "                self_bias += update\n",
    "                               \n",
    "    def predict(self, X):\n",
    "        linear_output = np.dot(self.weights, X) + self.bias\n",
    "        y_predicted = self._unit_step_func(linear_output)\n",
    "        return y_predicted"
   ]
  },
  {
   "cell_type": "code",
   "execution_count": 4,
   "id": "8f9b694b",
   "metadata": {},
   "outputs": [
    {
     "data": {
      "text/html": [
       "<div>\n",
       "<style scoped>\n",
       "    .dataframe tbody tr th:only-of-type {\n",
       "        vertical-align: middle;\n",
       "    }\n",
       "\n",
       "    .dataframe tbody tr th {\n",
       "        vertical-align: top;\n",
       "    }\n",
       "\n",
       "    .dataframe thead th {\n",
       "        text-align: right;\n",
       "    }\n",
       "</style>\n",
       "<table border=\"1\" class=\"dataframe\">\n",
       "  <thead>\n",
       "    <tr style=\"text-align: right;\">\n",
       "      <th></th>\n",
       "      <th>species</th>\n",
       "      <th>island</th>\n",
       "      <th>bill_length_mm</th>\n",
       "      <th>bill_depth_mm</th>\n",
       "      <th>flipper_length_mm</th>\n",
       "      <th>body_mass_g</th>\n",
       "      <th>sex</th>\n",
       "      <th>year</th>\n",
       "    </tr>\n",
       "  </thead>\n",
       "  <tbody>\n",
       "    <tr>\n",
       "      <th>0</th>\n",
       "      <td>Adelie</td>\n",
       "      <td>Torgersen</td>\n",
       "      <td>39.1</td>\n",
       "      <td>18.7</td>\n",
       "      <td>181.0</td>\n",
       "      <td>3750.0</td>\n",
       "      <td>male</td>\n",
       "      <td>2007</td>\n",
       "    </tr>\n",
       "    <tr>\n",
       "      <th>1</th>\n",
       "      <td>Adelie</td>\n",
       "      <td>Torgersen</td>\n",
       "      <td>39.5</td>\n",
       "      <td>17.4</td>\n",
       "      <td>186.0</td>\n",
       "      <td>3800.0</td>\n",
       "      <td>female</td>\n",
       "      <td>2007</td>\n",
       "    </tr>\n",
       "    <tr>\n",
       "      <th>2</th>\n",
       "      <td>Adelie</td>\n",
       "      <td>Torgersen</td>\n",
       "      <td>40.3</td>\n",
       "      <td>18.0</td>\n",
       "      <td>195.0</td>\n",
       "      <td>3250.0</td>\n",
       "      <td>female</td>\n",
       "      <td>2007</td>\n",
       "    </tr>\n",
       "    <tr>\n",
       "      <th>3</th>\n",
       "      <td>Adelie</td>\n",
       "      <td>Torgersen</td>\n",
       "      <td>NaN</td>\n",
       "      <td>NaN</td>\n",
       "      <td>NaN</td>\n",
       "      <td>NaN</td>\n",
       "      <td>NaN</td>\n",
       "      <td>2007</td>\n",
       "    </tr>\n",
       "    <tr>\n",
       "      <th>4</th>\n",
       "      <td>Adelie</td>\n",
       "      <td>Torgersen</td>\n",
       "      <td>36.7</td>\n",
       "      <td>19.3</td>\n",
       "      <td>193.0</td>\n",
       "      <td>3450.0</td>\n",
       "      <td>female</td>\n",
       "      <td>2007</td>\n",
       "    </tr>\n",
       "  </tbody>\n",
       "</table>\n",
       "</div>"
      ],
      "text/plain": [
       "  species     island  bill_length_mm  bill_depth_mm  flipper_length_mm  \\\n",
       "0  Adelie  Torgersen            39.1           18.7              181.0   \n",
       "1  Adelie  Torgersen            39.5           17.4              186.0   \n",
       "2  Adelie  Torgersen            40.3           18.0              195.0   \n",
       "3  Adelie  Torgersen             NaN            NaN                NaN   \n",
       "4  Adelie  Torgersen            36.7           19.3              193.0   \n",
       "\n",
       "   body_mass_g     sex  year  \n",
       "0       3750.0    male  2007  \n",
       "1       3800.0  female  2007  \n",
       "2       3250.0  female  2007  \n",
       "3          NaN     NaN  2007  \n",
       "4       3450.0  female  2007  "
      ]
     },
     "execution_count": 4,
     "metadata": {},
     "output_type": "execute_result"
    }
   ],
   "source": [
    "penguins = pd.read_csv(\"https://raw.githubusercontent.com/allisonhorst/palmerpenguins/c19a904462482430170bfe2c718775ddb7dbb885/inst/extdata/penguins.csv\")\n",
    "penguins.head()"
   ]
  },
  {
   "cell_type": "code",
   "execution_count": 5,
   "id": "c89f0ceb",
   "metadata": {},
   "outputs": [
    {
     "data": {
      "text/plain": [
       "Adelie       146\n",
       "Gentoo       119\n",
       "Chinstrap     68\n",
       "Name: species, dtype: int64"
      ]
     },
     "execution_count": 5,
     "metadata": {},
     "output_type": "execute_result"
    }
   ],
   "source": [
    "penguins = penguins.dropna()\n",
    "penguins.species.value_counts()"
   ]
  },
  {
   "cell_type": "code",
   "execution_count": 6,
   "id": "4da293f4",
   "metadata": {},
   "outputs": [
    {
     "data": {
      "text/html": [
       "<div>\n",
       "<style scoped>\n",
       "    .dataframe tbody tr th:only-of-type {\n",
       "        vertical-align: middle;\n",
       "    }\n",
       "\n",
       "    .dataframe tbody tr th {\n",
       "        vertical-align: top;\n",
       "    }\n",
       "\n",
       "    .dataframe thead th {\n",
       "        text-align: right;\n",
       "    }\n",
       "</style>\n",
       "<table border=\"1\" class=\"dataframe\">\n",
       "  <thead>\n",
       "    <tr style=\"text-align: right;\">\n",
       "      <th></th>\n",
       "      <th>bill_length_mm</th>\n",
       "      <th>bill_depth_mm</th>\n",
       "      <th>flipper_length_mm</th>\n",
       "      <th>body_mass_g</th>\n",
       "    </tr>\n",
       "  </thead>\n",
       "  <tbody>\n",
       "    <tr>\n",
       "      <th>0</th>\n",
       "      <td>39.1</td>\n",
       "      <td>18.7</td>\n",
       "      <td>181.0</td>\n",
       "      <td>3750.0</td>\n",
       "    </tr>\n",
       "    <tr>\n",
       "      <th>1</th>\n",
       "      <td>39.5</td>\n",
       "      <td>17.4</td>\n",
       "      <td>186.0</td>\n",
       "      <td>3800.0</td>\n",
       "    </tr>\n",
       "    <tr>\n",
       "      <th>2</th>\n",
       "      <td>40.3</td>\n",
       "      <td>18.0</td>\n",
       "      <td>195.0</td>\n",
       "      <td>3250.0</td>\n",
       "    </tr>\n",
       "    <tr>\n",
       "      <th>4</th>\n",
       "      <td>36.7</td>\n",
       "      <td>19.3</td>\n",
       "      <td>193.0</td>\n",
       "      <td>3450.0</td>\n",
       "    </tr>\n",
       "    <tr>\n",
       "      <th>5</th>\n",
       "      <td>39.3</td>\n",
       "      <td>20.6</td>\n",
       "      <td>190.0</td>\n",
       "      <td>3650.0</td>\n",
       "    </tr>\n",
       "  </tbody>\n",
       "</table>\n",
       "</div>"
      ],
      "text/plain": [
       "   bill_length_mm  bill_depth_mm  flipper_length_mm  body_mass_g\n",
       "0            39.1           18.7              181.0       3750.0\n",
       "1            39.5           17.4              186.0       3800.0\n",
       "2            40.3           18.0              195.0       3250.0\n",
       "4            36.7           19.3              193.0       3450.0\n",
       "5            39.3           20.6              190.0       3650.0"
      ]
     },
     "execution_count": 6,
     "metadata": {},
     "output_type": "execute_result"
    }
   ],
   "source": [
    "int_cols = penguins.iloc[:, 2:6]\n",
    "int_cols.head()"
   ]
  },
  {
   "cell_type": "code",
   "execution_count": 277,
   "id": "640ddc2d",
   "metadata": {},
   "outputs": [],
   "source": [
    "# Improvements on lines 62, 80, 110\n",
    "\n",
    "class my_UMAP:\n",
    "    def __init__(self, learning_rate=0.01, nearest_neighbors=15):\n",
    "        self.lr = learning_rate\n",
    "        self.nn = nearest_neighbors\n",
    "        \n",
    "    def _euclidean_dist_all(self, df_nums): # df_nums needs to be composed on only integer values\n",
    "        all_dists = {} # dict with key as index of value \n",
    "        i = 0\n",
    "        \n",
    "        for p in int_cols.iloc[:].values:\n",
    "            temp = np.array([])\n",
    "\n",
    "            for pp in int_cols.iloc[:].values:\n",
    "                dist = np.linalg.norm(p - pp)\n",
    "                temp = np.append(temp, dist)\n",
    "\n",
    "            all_dists[i] = temp\n",
    "            i += 1\n",
    "        \n",
    "        return all_dists\n",
    "    \n",
    "    def graph_original_nns(self, dists, show_visuals, ngraphs):\n",
    "        \n",
    "        dists_dict = {}\n",
    "        \n",
    "        for key in dists:\n",
    "            \n",
    "            all_curr_dists = dists[key] # dists[key] is an array with the values for all distances from the point at index 'key'\n",
    "                                            # (from original data) which preserves the original order of the data points\n",
    "                                 \n",
    "            min_inds = all_curr_dists.argsort()[:self.nn+1]\n",
    "            min_inds = min_inds[min_inds != key] # stores the values of the indexes of the nearest neighbors\n",
    "            \n",
    "            # Create array with the distances of the point 'key' to its nearest neighbors\n",
    "            curr_dists_nns = np.array([])\n",
    "            for ind in min_inds:\n",
    "                curr_dists_nns = np.append(curr_dists_nns, all_curr_dists[ind]) # values are already sorted\n",
    "            \n",
    "            # Plot graphs -- Optional\n",
    "            if show_visuals == True and key <= (ngraphs-1):\n",
    "            \n",
    "                plt.plot(curr_dists_nns, np.zeros_like(curr_dists_nns), 'ko')\n",
    "                plt.plot(0, 0, 'c*')\n",
    "                plt.annotate('Origin point', (0, 0), xytext=(0, 2), arrowprops=dict(arrowstyle='<-', color='cyan', linewidth=2))\n",
    "                plt.xlabel(f'Nearest {self.nn} Neighbors')\n",
    "                plt.ylim(-0.5, 5)\n",
    "                plt.show()\n",
    "\n",
    "                print('Distances to nearest neighbors: ', curr_dists_nns)\n",
    "            \n",
    "            # Nested dictionary to store useful info about a data point\n",
    "            dists_dict[key] = {}\n",
    "            dists_dict[key]['nns_indexes'] = min_inds\n",
    "            dists_dict[key]['dists_to_nns'] = curr_dists_nns\n",
    "            dists_dict[key]['all_dists'] = all_curr_dists\n",
    "        \n",
    "        return dists_dict\n",
    "            \n",
    "    \n",
    "    def graph_similarity_scores(self, dists_dict, show_visuals, ngraphs, theta=1): ################ TRAIN THETA\n",
    "    \n",
    "        i = 0\n",
    "        \n",
    "        for k, d in dists_dict.items():\n",
    "            \n",
    "            dists_nns_only = d['dists_to_nns']\n",
    "            nneighbor = dists_nns_only[0]\n",
    "            similarity_scores = np.array([])\n",
    "            \n",
    "            for dist in dists_nns_only:\n",
    "                \n",
    "                # Calculate similarity scores of nearest neighbors\n",
    "                similarity_score = np.exp(-(dist-nneighbor)/theta)\n",
    "                similarity_scores = np.append(similarity_scores, similarity_score)\n",
    "            \n",
    "            \n",
    "            # Plot graphs -- Optional\n",
    "            if show_visuals == True and i <= (ngraphs-1):  ######## FIX SMOOTHNESS OF LINE -- EXPONENTIAL INSTEAD OF QUADRATIC\n",
    "                \n",
    "                plt.plot(dists_nns_only, similarity_scores, 'ko')\n",
    "\n",
    "            # ATTEMPT TO DRAW A LINE TO CONNECT POINTS -- LOOKING FOR EXPONENTIAL, NOT QUADRATIC KIND\n",
    "    #             x_new = np.linspace(dists_nns_only[0], dists_nns_only[-1],500)\n",
    "    #             f = interp1d(dists_nns_only, similarity_scores, kind='quadratic')\n",
    "    #             y_smooth=f(x_new)\n",
    "    #             plt.plot(x_new, y_smooth)\n",
    "\n",
    "                plt.xlabel(f\"Nearest {self.nn} Neighbors' SSs\")\n",
    "                plt.ylim(-0.5, 1.5)\n",
    "                plt.show()\n",
    "                \n",
    "                print('Similarity Scores: ', similarity_scores)\n",
    "                i += 1\n",
    "            \n",
    "            dists_dict[k]['similarity_scores'] = similarity_scores\n",
    "        \n",
    "        return dists_dict\n",
    "        \n",
    "        \n",
    "    \n",
    "    def fit(self, df_nums, show_visuals=False, ngraphs=5):\n",
    "        \n",
    "        # Step 1 - calculate distances between each pair of points -> euclidean distance -- DONE\n",
    "        all_dists = self._euclidean_dist_all(df_nums)\n",
    "        \n",
    "        # Step 2 - make a graph for each point where the origin is that point and the other points are placed on the \n",
    "        #    x-axis in relation to their distance to the origin point -- DONE\n",
    "        dists_dict = self.graph_original_nns(all_dists, show_visuals=show_visuals, ngraphs=ngraphs) ######## SEE WHERE *args, **kwargs CAN BE USED\n",
    "        \n",
    "        # Step 3 - decide on number of high dimensional neighbors (including the point itself, common value is 15) -- DONE\n",
    "        \n",
    "        # Step 4 - draw a curve based on the distances and nn parameter. The curve is drawn in such a way that the sum of \n",
    "        #    the y-coordinates that match up with the number of neighbors equals the log2(nns) -- INCOMPLETE\n",
    "        dists_dict = self.graph_similarity_scores(dists_dict, show_visuals=show_visuals, ngraphs=ngraphs)\n",
    "        print(dists_dict[0])\n",
    "        \n",
    "        # Step 5 - converge similarity scores between the same points into one --> symmetrical similarity score (SSS)\n",
    "            # dists_dict -> first key represents the index of the origin point in the original data\n",
    "                # inside that key we have -> 'nns_indexes' (in original data, ordered), 'dists_to_nns' (ordered),\n",
    "                    # 'all_dists' (ordered based on original data), 'similarity_scores' (ordered)\n",
    "        "
   ]
  },
  {
   "cell_type": "code",
   "execution_count": 278,
   "id": "40d1a5ec",
   "metadata": {},
   "outputs": [
    {
     "data": {
      "image/png": "[encoded data removed]",
      "text/plain": [
       "<Figure size 432x288 with 1 Axes>"
      ]
     },
     "metadata": {
      "needs_background": "light"
     },
     "output_type": "display_data"
    },
    {
     "name": "stdout",
     "output_type": "stream",
     "text": [
      "Distances to nearest neighbors:  [12.08511481 13.09236419 18.069311  ]\n"
     ]
    },
    {
     "data": {
      "image/png": "[encoded data removed]",
      "text/plain": [
       "<Figure size 432x288 with 1 Axes>"
      ]
     },
     "metadata": {
      "needs_background": "light"
     },
     "output_type": "display_data"
    },
    {
     "name": "stdout",
     "output_type": "stream",
     "text": [
      "Distances to nearest neighbors:  [3.28633535 4.57055795 5.01996016]\n"
     ]
    },
    {
     "data": {
      "image/png": "[encoded data removed]",
      "text/plain": [
       "<Figure size 432x288 with 1 Axes>"
      ]
     },
     "metadata": {
      "needs_background": "light"
     },
     "output_type": "display_data"
    },
    {
     "name": "stdout",
     "output_type": "stream",
     "text": [
      "Distances to nearest neighbors:  [ 6.47842573 13.78150935 17.06839184]\n"
     ]
    },
    {
     "data": {
      "image/png": "[encoded data removed]",
      "text/plain": [
       "<Figure size 432x288 with 1 Axes>"
      ]
     },
     "metadata": {
      "needs_background": "light"
     },
     "output_type": "display_data"
    },
    {
     "name": "stdout",
     "output_type": "stream",
     "text": [
      "Distances to nearest neighbors:  [2.596151   2.84429253 3.38378486]\n"
     ]
    },
    {
     "data": {
      "image/png": "[encoded data removed]",
      "text/plain": [
       "<Figure size 432x288 with 1 Axes>"
      ]
     },
     "metadata": {
      "needs_background": "light"
     },
     "output_type": "display_data"
    },
    {
     "name": "stdout",
     "output_type": "stream",
     "text": [
      "Distances to nearest neighbors:  [5.35723809 8.1375672  8.60581199]\n"
     ]
    },
    {
     "data": {
      "image/png": "[encoded data removed]",
      "text/plain": [
       "<Figure size 432x288 with 1 Axes>"
      ]
     },
     "metadata": {
      "needs_background": "light"
     },
     "output_type": "display_data"
    },
    {
     "name": "stdout",
     "output_type": "stream",
     "text": [
      "Similarity Scores:  [1.         0.36522219 0.00251824]\n"
     ]
    },
    {
     "data": {
      "image/png": "[encoded data removed]",
      "text/plain": [
       "<Figure size 432x288 with 1 Axes>"
      ]
     },
     "metadata": {
      "needs_background": "light"
     },
     "output_type": "display_data"
    },
    {
     "name": "stdout",
     "output_type": "stream",
     "text": [
      "Similarity Scores:  [1.         0.27686573 0.17664295]\n"
     ]
    },
    {
     "data": {
      "image/png": "[encoded data removed]",
      "text/plain": [
       "<Figure size 432x288 with 1 Axes>"
      ]
     },
     "metadata": {
      "needs_background": "light"
     },
     "output_type": "display_data"
    },
    {
     "name": "stdout",
     "output_type": "stream",
     "text": [
      "Similarity Scores:  [1.00000000e+00 6.73458881e-04 2.51672728e-05]\n"
     ]
    },
    {
     "data": {
      "image/png": "[encoded data removed]",
      "text/plain": [
       "<Figure size 432x288 with 1 Axes>"
      ]
     },
     "metadata": {
      "needs_background": "light"
     },
     "output_type": "display_data"
    },
    {
     "name": "stdout",
     "output_type": "stream",
     "text": [
      "Similarity Scores:  [1.         0.7802495  0.45491992]\n"
     ]
    },
    {
     "data": {
      "image/png": "[encoded data removed]",
      "text/plain": [
       "<Figure size 432x288 with 1 Axes>"
      ]
     },
     "metadata": {
      "needs_background": "light"
     },
     "output_type": "display_data"
    },
    {
     "name": "stdout",
     "output_type": "stream",
     "text": [
      "Similarity Scores:  [1.         0.06201809 0.03882954]\n",
      "{'nns_indexes': array([143,  53, 100], dtype=int64), 'dists_to_nns': array([12.08511481, 13.09236419, 18.069311  ]), 'all_dists': array([   0.        ,   50.26778292,  500.19789084,  300.25009575,\n",
      "        100.42235807,  125.00339995,  925.10638307,  550.00564543,\n",
      "         51.05389309,  650.24227023,   50.23007067,  300.32690522,\n",
      "        750.18101815,  425.03668077,  450.24931982,  350.07263532,\n",
      "        150.00986634,   50.7394324 ,  200.04292039,   50.03338885,\n",
      "         50.50227718,  200.01564939,  550.03508979,  600.0687044 ,\n",
      "        200.00749986,  500.01315983,  150.0432271 ,  450.0555188 ,\n",
      "        150.04092775,  425.24249552,  400.28835856,  200.20684304,\n",
      "        200.02662323,  450.00289999,  900.0053611 ,  600.00687496,\n",
      "        150.66180671,  650.0266533 ,  650.19304826,  750.0157665 ,\n",
      "        850.04779866,  325.00783067,  300.1520448 ,  400.14558601,\n",
      "        250.05249449,  550.04548903,  300.16403849,  300.61611733,\n",
      "        850.03383462,   51.04213945,  200.06611407,   51.44181179,\n",
      "        900.00620553,   13.09236419,  600.02566612,  650.15890365,\n",
      "        150.07045012,  300.20867742,  900.01047216,  200.31909545,\n",
      "        400.2689221 ,  350.07593462,  700.06831809,  700.21195363,\n",
      "        150.37436617,  150.27125474,  200.5679436 ,  400.37598579,\n",
      "         50.94506846,  500.20968603,   51.05732073,  150.04366031,\n",
      "        200.12788411,  250.40998383,  550.07863074,  950.12664945,\n",
      "         50.41596969,  450.1782869 ,  400.13004136,  200.44051487,\n",
      "         50.88693349,  250.1376621 ,  200.16215926,  150.2699238 ,\n",
      "        201.12943594,  550.52734719,  350.06366564,  700.01829262,\n",
      "        450.05151927,  550.6649889 ,   50.81348246,  600.18870366,\n",
      "        850.03044651,  350.1968732 ,   27.63059898,  975.2508908 ,\n",
      "        675.00981474,  500.08437288,  825.08814681,  200.02349862,\n",
      "         18.069311  ,  150.27807558,  575.0033826 , 1025.13311331,\n",
      "         76.94049649,  850.08517809,  550.13212958,  525.25351022,\n",
      "        150.34709841,  325.36613223,  850.03067003,   30.91083952,\n",
      "        400.09805048,  425.08000423,  600.03888207,  250.58365869,\n",
      "        300.04849608,  126.77274944,  700.03432059,  250.65183023,\n",
      "        475.10661961,  550.18353301,  700.07326045,  251.72701484,\n",
      "        425.09645964,  250.54390833,  250.29848182,  725.2252064 ,\n",
      "        325.0587793 ,  150.28785713,  575.09885237,  225.80781652,\n",
      "        350.03606957,  500.14497898,  350.21103638,  275.07362651,\n",
      "        700.07731002,   26.67302008,  750.08522849,  100.08001799,\n",
      "        500.08101344,  275.02788949,  300.34383629,   12.08511481,\n",
      "         50.47940174,  250.81028687,  750.65254945, 1950.64747456,\n",
      "        700.68132557, 1950.38459284, 1650.37749924,  800.57654225,\n",
      "       1050.45537744, 1450.52174062,  650.63794079, 1400.43785296,\n",
      "        900.62047501, 1800.36934266,  900.64141588, 2100.26838761,\n",
      "        451.0018847 , 2100.33545892,  401.09406627, 2550.33610726,\n",
      "       1050.40565973, 1600.55806518, 1950.38754354, 1250.48376239,\n",
      "        650.84283817, 1300.46770433, 1250.4806276 , 1350.45102096,\n",
      "       1900.32770332,  850.55462494, 1800.45865545, 1500.58648534,\n",
      "        950.43039724, 1300.28060049, 2300.61386156, 1400.58423881,\n",
      "       1650.48879124, 1200.44210606, 1500.49126955,  600.64883251,\n",
      "       1600.25940397,  201.90829602, 1950.52647765,  550.82160451,\n",
      "       1000.6742427 , 1800.50515134, 1150.58215265,  451.00443457,\n",
      "       1650.62830462, 1350.40245853, 1550.3875709 , 1100.41696643,\n",
      "       1550.52588498,  650.68847385, 1250.82800177, 1150.59517207,\n",
      "       1300.60243733,  550.70330487, 1250.63010119,  700.54510918,\n",
      "       1800.55220696,  450.87853131, 1550.53695538,  650.88831607,\n",
      "       1900.72092639,  950.79395244, 1950.64581613, 2050.58977126,\n",
      "        950.82101891, 1800.5311022 , 1000.65610976, 1250.66498312,\n",
      "       1350.62667677, 1450.47094766,  950.67974629, 2050.60930945,\n",
      "        850.51443844, 2250.37124937, 1000.60842491, 2200.41052988,\n",
      "        875.61614878, 1700.52614505,  975.53662156, 1600.61727155,\n",
      "       1000.50919536, 1850.63444526,  850.82664509, 1550.49607868,\n",
      "       1125.46819147, 1800.71454984, 1200.60536814, 1650.72201476,\n",
      "       1000.50967012, 1900.51675078, 1100.51540653, 1450.74838963,\n",
      "       1175.56986181, 1125.78135088,  875.3364953 , 1500.69478576,\n",
      "       1100.70252566, 1850.67396642, 1225.50269278, 1750.66349993,\n",
      "       1750.34912232,  950.4545018 , 1750.47333599,  825.46576549,\n",
      "       1750.25082774, 1250.54676442, 2200.55136954,  900.58625906,\n",
      "       1750.73142429,  626.09310011, 2100.63425898, 2250.39581852,\n",
      "       1175.50185453, 1100.56106146, 2000.45437089, 1450.34941307,\n",
      "       1650.34766034,  250.35255141,  151.1438057 ,  101.45486681,\n",
      "        225.19700264,   32.66756801,  200.81588583,  500.05824661,\n",
      "         20.12684774,  400.30444664,   54.21512704,   51.97172308,\n",
      "         30.90825133,   50.79734245,  300.94313416,  175.37046502,\n",
      "        300.88331625,  450.42549883,   53.46045267,  300.22374989,\n",
      "        650.22939029,  150.04282722,  350.27103791,  850.03365816,\n",
      "         52.69478153,  450.28257794,  400.52777681,  350.7007984 ,\n",
      "         54.49082492,   51.51795803,  800.47821957,  550.03968039,\n",
      "        550.57462709,  400.06444481,  350.89260465,  151.024402  ,\n",
      "        151.32141289,  101.33316338, 1050.4815134 , 1050.08868673,\n",
      "        750.52301764,  202.33548873,  100.43828951,  200.90893459,\n",
      "        250.537123  ,   77.39431504,  700.38341642,  350.2893661 ,\n",
      "        550.96263031,  500.189724  ,   77.65597208,  425.48242032,\n",
      "        201.37373215,  150.63040862,  301.03082899,  400.06189521,\n",
      "        300.71185544,  500.14159995,  300.98086318,   55.35539721,\n",
      "        225.47004236,  201.96405621,  100.63861088,  101.20499   ,\n",
      "        251.90494239,  350.65755375,   29.65636525,  351.39433689,\n",
      "         32.20574483]), 'similarity_scores': array([1.        , 0.36522219, 0.00251824])}\n"
     ]
    }
   ],
   "source": [
    "test = my_UMAP(nearest_neighbors = 3)\n",
    "test_dict = test.fit(int_cols, show_visuals=False)\n",
    "\n",
    "\n",
    "\n",
    "# nneighbor = test_dict[1]\n",
    "# for i in test_dict[0][1:]:\n",
    "#     print(np.exp(-(i-nneighbor)))"
   ]
  },
  {
   "cell_type": "code",
   "execution_count": null,
   "id": "113496a6",
   "metadata": {},
   "outputs": [],
   "source": [
    "sns.set(style='white', context='notebook', rc={'figure.figsize':(14,10)})"
   ]
  },
  {
   "cell_type": "code",
   "execution_count": null,
   "id": "615398d4",
   "metadata": {},
   "outputs": [],
   "source": [
    "sns.pairplot(penguins.drop(\"year\", axis=1), hue='species');"
   ]
  },
  {
   "cell_type": "code",
   "execution_count": null,
   "id": "67693816",
   "metadata": {},
   "outputs": [],
   "source": [
    "import umap"
   ]
  },
  {
   "cell_type": "code",
   "execution_count": null,
   "id": "964aaba3",
   "metadata": {},
   "outputs": [],
   "source": [
    "reducer = umap.UMAP()"
   ]
  },
  {
   "cell_type": "code",
   "execution_count": null,
   "id": "c9e71941",
   "metadata": {},
   "outputs": [],
   "source": [
    "penguin_data = penguins[\n",
    "    [\n",
    "        \"bill_length_mm\",\n",
    "        \"bill_depth_mm\",\n",
    "        \"flipper_length_mm\",\n",
    "        \"body_mass_g\",\n",
    "    ]\n",
    "].values\n",
    "scaled_penguin_data = StandardScaler().fit_transform(penguin_data)"
   ]
  },
  {
   "cell_type": "code",
   "execution_count": null,
   "id": "a8f28fda",
   "metadata": {},
   "outputs": [],
   "source": [
    "plt.scatter(\n",
    "    embedding[:, 0],\n",
    "    embedding[:, 1],\n",
    "    c=[sns.color_palette()[x] for x in penguins.species.map({\"Adelie\":0, \"Chinstrap\":1, \"Gentoo\":2})])\n",
    "plt.gca().set_aspect('equal', 'datalim')\n",
    "plt.title('UMAP projection of the Penguin dataset', fontsize=24);"
   ]
  }
 ],
 "metadata": {
  "kernelspec": {
   "display_name": "Python 3 (ipykernel)",
   "language": "python",
   "name": "python3"
  },
  "language_info": {
   "codemirror_mode": {
    "name": "ipython",
    "version": 3
   },
   "file_extension": ".py",
   "mimetype": "text/x-python",
   "name": "python",
   "nbconvert_exporter": "python",
   "pygments_lexer": "ipython3",
   "version": "3.9.7"
  }
 },
 "nbformat": 4,
 "nbformat_minor": 5
}
